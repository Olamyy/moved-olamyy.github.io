{
 "cells": [
  {
   "cell_type": "code",
   "execution_count": 1,
   "metadata": {},
   "outputs": [],
   "source": [
    "from nltk.stem import WordNetLemmatizer \n",
    "import pandas\n",
    "\n",
    "lemmatizer = WordNetLemmatizer()\n",
    "\n",
    "raw = \"\"\"\n",
    "        DENNIS: Listen,a strange woman or man lying in ponds distributing swords is no basis for a system of government.\n",
    "        Supreme executive power derives from a mandate from the masses, not from some farcical aquatic ceremony.\n",
    "        \"\"\"\n",
    "word_list = [\"DENNIS:\", \"strange\", \"woman\", \"mandate\", \"mass\",\"love\", \"lie\", \"lying\", \"pond\", \"supreme\", \"is\", \"no\", \"one\", \"man\", \"you\", \"me\", \"death\"]\n",
    "lem_result = []\n",
    "dictionary_lookup = {}\n",
    "\n",
    "for word in raw.split(' '):\n",
    "    lem_word = lemmatizer.lemmatize(word.lower())\n",
    "    lem_result.append(lem_word)\n",
    "    \n",
    "    \n",
    "for i, j in enumerate(word_list):\n",
    "    if j.lower() not in lem_result:\n",
    "        dictionary_lookup[i] = \"ovt\"\n",
    "    else:\n",
    "        dictionary_lookup[i] = j.lower()\n",
    "        \n",
    "lookup_dictionary = pandas.DataFrame(dictionary_lookup, index=[0]).transpose()\n",
    "lookup_dictionary.columns = ['word']\n",
    "\n",
    "def build_id(x):\n",
    "    if x == \"ovt\":\n",
    "        return lookup_dictionary.shape[0] + 1\n",
    "    return lookup_dictionary.index[lookup_dictionary['word'] == x][0]\n",
    "\n",
    "lookup_dictionary['ID'] = lookup_dictionary.word.apply(build_id)"
   ]
  },
  {
   "cell_type": "code",
   "execution_count": 2,
   "metadata": {},
   "outputs": [
    {
     "data": {
      "text/html": [
       "<div>\n",
       "<style scoped>\n",
       "    .dataframe tbody tr th:only-of-type {\n",
       "        vertical-align: middle;\n",
       "    }\n",
       "\n",
       "    .dataframe tbody tr th {\n",
       "        vertical-align: top;\n",
       "    }\n",
       "\n",
       "    .dataframe thead th {\n",
       "        text-align: right;\n",
       "    }\n",
       "</style>\n",
       "<table border=\"1\" class=\"dataframe\">\n",
       "  <thead>\n",
       "    <tr style=\"text-align: right;\">\n",
       "      <th></th>\n",
       "      <th>word</th>\n",
       "      <th>ID</th>\n",
       "    </tr>\n",
       "  </thead>\n",
       "  <tbody>\n",
       "    <tr>\n",
       "      <th>0</th>\n",
       "      <td>dennis:</td>\n",
       "      <td>0</td>\n",
       "    </tr>\n",
       "    <tr>\n",
       "      <th>1</th>\n",
       "      <td>strange</td>\n",
       "      <td>1</td>\n",
       "    </tr>\n",
       "    <tr>\n",
       "      <th>2</th>\n",
       "      <td>woman</td>\n",
       "      <td>2</td>\n",
       "    </tr>\n",
       "    <tr>\n",
       "      <th>3</th>\n",
       "      <td>mandate</td>\n",
       "      <td>3</td>\n",
       "    </tr>\n",
       "    <tr>\n",
       "      <th>4</th>\n",
       "      <td>ovt</td>\n",
       "      <td>18</td>\n",
       "    </tr>\n",
       "    <tr>\n",
       "      <th>5</th>\n",
       "      <td>ovt</td>\n",
       "      <td>18</td>\n",
       "    </tr>\n",
       "    <tr>\n",
       "      <th>6</th>\n",
       "      <td>ovt</td>\n",
       "      <td>18</td>\n",
       "    </tr>\n",
       "    <tr>\n",
       "      <th>7</th>\n",
       "      <td>lying</td>\n",
       "      <td>7</td>\n",
       "    </tr>\n",
       "    <tr>\n",
       "      <th>8</th>\n",
       "      <td>pond</td>\n",
       "      <td>8</td>\n",
       "    </tr>\n",
       "    <tr>\n",
       "      <th>9</th>\n",
       "      <td>supreme</td>\n",
       "      <td>9</td>\n",
       "    </tr>\n",
       "    <tr>\n",
       "      <th>10</th>\n",
       "      <td>is</td>\n",
       "      <td>10</td>\n",
       "    </tr>\n",
       "    <tr>\n",
       "      <th>11</th>\n",
       "      <td>no</td>\n",
       "      <td>11</td>\n",
       "    </tr>\n",
       "    <tr>\n",
       "      <th>12</th>\n",
       "      <td>ovt</td>\n",
       "      <td>18</td>\n",
       "    </tr>\n",
       "    <tr>\n",
       "      <th>13</th>\n",
       "      <td>man</td>\n",
       "      <td>13</td>\n",
       "    </tr>\n",
       "    <tr>\n",
       "      <th>14</th>\n",
       "      <td>ovt</td>\n",
       "      <td>18</td>\n",
       "    </tr>\n",
       "    <tr>\n",
       "      <th>15</th>\n",
       "      <td>ovt</td>\n",
       "      <td>18</td>\n",
       "    </tr>\n",
       "    <tr>\n",
       "      <th>16</th>\n",
       "      <td>ovt</td>\n",
       "      <td>18</td>\n",
       "    </tr>\n",
       "  </tbody>\n",
       "</table>\n",
       "</div>"
      ],
      "text/plain": [
       "       word  ID\n",
       "0   dennis:   0\n",
       "1   strange   1\n",
       "2     woman   2\n",
       "3   mandate   3\n",
       "4       ovt  18\n",
       "5       ovt  18\n",
       "6       ovt  18\n",
       "7     lying   7\n",
       "8      pond   8\n",
       "9   supreme   9\n",
       "10       is  10\n",
       "11       no  11\n",
       "12      ovt  18\n",
       "13      man  13\n",
       "14      ovt  18\n",
       "15      ovt  18\n",
       "16      ovt  18"
      ]
     },
     "execution_count": 2,
     "metadata": {},
     "output_type": "execute_result"
    }
   ],
   "source": [
    "lookup_dictionary"
   ]
  },
  {
   "cell_type": "code",
   "execution_count": 3,
   "metadata": {},
   "outputs": [],
   "source": [
    "from sklearn.preprocessing import OneHotEncoder"
   ]
  },
  {
   "cell_type": "code",
   "execution_count": 4,
   "metadata": {},
   "outputs": [],
   "source": [
    "onehot_encoding = OneHotEncoder().fit_transform(lookup_dictionary.word.values.reshape((-1, 1))).todense()"
   ]
  },
  {
   "cell_type": "code",
   "execution_count": 5,
   "metadata": {},
   "outputs": [
    {
     "data": {
      "text/plain": [
       "matrix([[1., 0., 0., 0., 0., 0., 0., 0., 0., 0., 0.],\n",
       "        [0., 0., 0., 0., 0., 0., 0., 0., 1., 0., 0.],\n",
       "        [0., 0., 0., 0., 0., 0., 0., 0., 0., 0., 1.],\n",
       "        [0., 0., 0., 0., 1., 0., 0., 0., 0., 0., 0.],\n",
       "        [0., 0., 0., 0., 0., 0., 1., 0., 0., 0., 0.],\n",
       "        [0., 0., 0., 0., 0., 0., 1., 0., 0., 0., 0.],\n",
       "        [0., 0., 0., 0., 0., 0., 1., 0., 0., 0., 0.],\n",
       "        [0., 0., 1., 0., 0., 0., 0., 0., 0., 0., 0.],\n",
       "        [0., 0., 0., 0., 0., 0., 0., 1., 0., 0., 0.],\n",
       "        [0., 0., 0., 0., 0., 0., 0., 0., 0., 1., 0.],\n",
       "        [0., 1., 0., 0., 0., 0., 0., 0., 0., 0., 0.],\n",
       "        [0., 0., 0., 0., 0., 1., 0., 0., 0., 0., 0.],\n",
       "        [0., 0., 0., 0., 0., 0., 1., 0., 0., 0., 0.],\n",
       "        [0., 0., 0., 1., 0., 0., 0., 0., 0., 0., 0.],\n",
       "        [0., 0., 0., 0., 0., 0., 1., 0., 0., 0., 0.],\n",
       "        [0., 0., 0., 0., 0., 0., 1., 0., 0., 0., 0.],\n",
       "        [0., 0., 0., 0., 0., 0., 1., 0., 0., 0., 0.]])"
      ]
     },
     "execution_count": 5,
     "metadata": {},
     "output_type": "execute_result"
    }
   ],
   "source": [
    "onehot_encoding"
   ]
  },
  {
   "cell_type": "code",
   "execution_count": 6,
   "metadata": {},
   "outputs": [],
   "source": [
    "from nltk.corpus import wordnet"
   ]
  },
  {
   "cell_type": "code",
   "execution_count": 7,
   "metadata": {},
   "outputs": [
    {
     "name": "stdout",
     "output_type": "stream",
     "text": [
      "(n)\n",
      "physique, build, body-build, habitus\n",
      "(n)\n",
      "human_body, physical_body, material_body, soma, build, figure, physique, anatomy, shape, bod, chassis, frame, form, flesh\n",
      "(v)\n",
      "construct, build, make\n",
      "(v)\n",
      "build_up, work_up, build, progress\n",
      "(v)\n",
      "build, establish\n",
      "(v)\n",
      "build\n",
      "(v)\n",
      "build\n",
      "(v)\n",
      "build\n",
      "(v)\n",
      "build\n",
      "(v)\n",
      "build\n",
      "(v)\n",
      "build_up, work_up, build, ramp_up\n",
      "(v)\n",
      "build\n"
     ]
    }
   ],
   "source": [
    "for synonym in wordnet.synsets(\"build\"):\n",
    "    print(\"({0})\".format(synonym.pos()))\n",
    "    print(\", \".join([l.name() for l in synonym.lemmas()]))"
   ]
  },
  {
   "cell_type": "code",
   "execution_count": 8,
   "metadata": {},
   "outputs": [
    {
     "data": {
      "text/plain": [
       "[Synset('adult.n.01'),\n",
       " Synset('male.n.02'),\n",
       " Synset('person.n.01'),\n",
       " Synset('causal_agent.n.01'),\n",
       " Synset('organism.n.01'),\n",
       " Synset('physical_entity.n.01'),\n",
       " Synset('living_thing.n.01'),\n",
       " Synset('entity.n.01'),\n",
       " Synset('whole.n.02'),\n",
       " Synset('object.n.01')]"
      ]
     },
     "execution_count": 8,
     "metadata": {},
     "output_type": "execute_result"
    }
   ],
   "source": [
    "man = wordnet.synset(\"man.n.01\")\n",
    "man_hyper = lambda s: s.hypernyms()\n",
    "list(man.closure(man_hyper))"
   ]
  },
  {
   "cell_type": "code",
   "execution_count": 9,
   "metadata": {},
   "outputs": [],
   "source": [
    "build = [\n",
    "    {\"sentence\": \"I never said she stole my money\", \"context_word\": \"I\", \"interpretation\": \"Someone else said it\"},\n",
    "    {\"sentence\": \"I NEVER said she stole my money\", \"context_word\": \"NEVER\", \"interpretation\": \"I didn't say it\"},\n",
    "    {\"sentence\": \"I never SAID she stole my money\", \"context_word\": \"SAID\", \"interpretation\": \"I only implied it\"},\n",
    "    {\"sentence\": \"I never said SHE stole my money\", \"context_word\": \"SHE\", \"interpretation\": \"I said someone did, not necessarily her\"},\n",
    "    {\"sentence\": \"I never said she STOLE my money\", \"context_word\": \"STOLE\", \"interpretation\": \"I considered it borrowed\"},\n",
    "    {\"sentence\": \"I never said she stole MY money\", \"context_word\": \"MY\", \"interpretation\": \"Only that she stole money, not necessarily my own\"},\n",
    "    {\"sentence\": \"I never said she stole MY MONEY\", \"context_word\": \"MONEY\", \"interpretation\": \"She stole something of mine, not my money\"},\n",
    "]\n",
    "built = pandas.DataFrame(build)"
   ]
  },
  {
   "cell_type": "code",
   "execution_count": 10,
   "metadata": {},
   "outputs": [],
   "source": [
    "sentence = built[['sentence','context_word','interpretation']]"
   ]
  },
  {
   "cell_type": "code",
   "execution_count": 11,
   "metadata": {},
   "outputs": [
    {
     "data": {
      "text/html": [
       "<div>\n",
       "<style scoped>\n",
       "    .dataframe tbody tr th:only-of-type {\n",
       "        vertical-align: middle;\n",
       "    }\n",
       "\n",
       "    .dataframe tbody tr th {\n",
       "        vertical-align: top;\n",
       "    }\n",
       "\n",
       "    .dataframe thead th {\n",
       "        text-align: right;\n",
       "    }\n",
       "</style>\n",
       "<table border=\"1\" class=\"dataframe\">\n",
       "  <thead>\n",
       "    <tr style=\"text-align: right;\">\n",
       "      <th></th>\n",
       "      <th>sentence</th>\n",
       "      <th>context_word</th>\n",
       "      <th>interpretation</th>\n",
       "    </tr>\n",
       "  </thead>\n",
       "  <tbody>\n",
       "    <tr>\n",
       "      <th>0</th>\n",
       "      <td>I never said she stole my money</td>\n",
       "      <td>I</td>\n",
       "      <td>Someone else said it</td>\n",
       "    </tr>\n",
       "    <tr>\n",
       "      <th>1</th>\n",
       "      <td>I NEVER said she stole my money</td>\n",
       "      <td>NEVER</td>\n",
       "      <td>I didn't say it</td>\n",
       "    </tr>\n",
       "    <tr>\n",
       "      <th>2</th>\n",
       "      <td>I never SAID she stole my money</td>\n",
       "      <td>SAID</td>\n",
       "      <td>I only implied it</td>\n",
       "    </tr>\n",
       "    <tr>\n",
       "      <th>3</th>\n",
       "      <td>I never said SHE stole my money</td>\n",
       "      <td>SHE</td>\n",
       "      <td>I said someone did, not necessarily her</td>\n",
       "    </tr>\n",
       "    <tr>\n",
       "      <th>4</th>\n",
       "      <td>I never said she STOLE my money</td>\n",
       "      <td>STOLE</td>\n",
       "      <td>I considered it borrowed</td>\n",
       "    </tr>\n",
       "    <tr>\n",
       "      <th>5</th>\n",
       "      <td>I never said she stole MY money</td>\n",
       "      <td>MY</td>\n",
       "      <td>Only that she stole money, not necessarily my own</td>\n",
       "    </tr>\n",
       "    <tr>\n",
       "      <th>6</th>\n",
       "      <td>I never said she stole MY MONEY</td>\n",
       "      <td>MONEY</td>\n",
       "      <td>She stole something of mine, not my money</td>\n",
       "    </tr>\n",
       "  </tbody>\n",
       "</table>\n",
       "</div>"
      ],
      "text/plain": [
       "                          sentence context_word  \\\n",
       "0  I never said she stole my money            I   \n",
       "1  I NEVER said she stole my money        NEVER   \n",
       "2  I never SAID she stole my money         SAID   \n",
       "3  I never said SHE stole my money          SHE   \n",
       "4  I never said she STOLE my money        STOLE   \n",
       "5  I never said she stole MY money           MY   \n",
       "6  I never said she stole MY MONEY        MONEY   \n",
       "\n",
       "                                      interpretation  \n",
       "0                               Someone else said it  \n",
       "1                                    I didn't say it  \n",
       "2                                  I only implied it  \n",
       "3            I said someone did, not necessarily her  \n",
       "4                           I considered it borrowed  \n",
       "5  Only that she stole money, not necessarily my own  \n",
       "6          She stole something of mine, not my money  "
      ]
     },
     "execution_count": 11,
     "metadata": {},
     "output_type": "execute_result"
    }
   ],
   "source": [
    "sentence"
   ]
  }
 ],
 "metadata": {
  "kernelspec": {
   "display_name": "Python 3",
   "language": "python",
   "name": "python3"
  },
  "language_info": {
   "codemirror_mode": {
    "name": "ipython",
    "version": 3
   },
   "file_extension": ".py",
   "mimetype": "text/x-python",
   "name": "python",
   "nbconvert_exporter": "python",
   "pygments_lexer": "ipython3",
   "version": "3.7.2"
  }
 },
 "nbformat": 4,
 "nbformat_minor": 2
}
